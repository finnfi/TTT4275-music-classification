{
 "cells": [
  {
   "cell_type": "markdown",
   "id": "67f24546-c1c9-479d-a46c-270a11f6d040",
   "metadata": {},
   "source": [
    "# Task 1\n",
    "\n",
    "We implemented a knn classifier. This can be found in scripts->KNN.py \n",
    "The implementation uses standard Euclidean distance.\n",
    "We added two features:\n",
    "- Different normalisation procedures: minmax and zscore\n",
    "- If principal component analysis should be used\n",
    "\n",
    "## Run the following code to get confusion matrices for part 1"
   ]
  },
  {
   "cell_type": "code",
   "execution_count": 5,
   "id": "92c23117-f4dd-408e-a606-7c7b7f493ed5",
   "metadata": {},
   "outputs": [
    {
     "ename": "ModuleNotFoundError",
     "evalue": "No module named 'plotter'",
     "output_type": "error",
     "traceback": [
      "\u001b[1;31m---------------------------------------------------------------------------\u001b[0m",
      "\u001b[1;31mModuleNotFoundError\u001b[0m                       Traceback (most recent call last)",
      "Input \u001b[1;32mIn [5]\u001b[0m, in \u001b[0;36m<cell line: 1>\u001b[1;34m()\u001b[0m\n\u001b[1;32m----> 1\u001b[0m \u001b[38;5;28;01mfrom\u001b[39;00m \u001b[38;5;21;01mplotter\u001b[39;00m \u001b[38;5;28;01mimport\u001b[39;00m plot_histogram, plot_3D_feature_space\n\u001b[0;32m      2\u001b[0m \u001b[38;5;28;01mfrom\u001b[39;00m \u001b[38;5;21;01msong_features\u001b[39;00m \u001b[38;5;28;01mimport\u001b[39;00m readGenreClassData, getPointsAndClasses\n\u001b[0;32m      3\u001b[0m \u001b[38;5;28;01mfrom\u001b[39;00m \u001b[38;5;21;01mKNN\u001b[39;00m \u001b[38;5;28;01mimport\u001b[39;00m KNNClassifier\n",
      "\u001b[1;31mModuleNotFoundError\u001b[0m: No module named 'plotter'"
     ]
    }
   ],
   "source": [
    "from plotter import plot_histogram, plot_3D_feature_space\n",
    "from song_features import readGenreClassData, getPointsAndClasses\n",
    "from KNN import KNNClassifier\n",
    "from KNN_scikit import KNNSciKitClassifier\n",
    "from itertools import combinations\n",
    "from sklearn.metrics import ConfusionMatrixDisplay\n",
    "import matplotlib.pyplot as plt\n",
    "\n",
    "# Import song feature\n",
    "songs_dict = readGenreClassData(\"Data/GenreClassData_30s.txt\")\n",
    "\n",
    "# Choose features and genres:\n",
    "# features    = [ \"zero_cross_rate_mean\",\"zero_cross_rate_std\",\"rmse_mean\",\"rmse_var\",\"spectral_centroid_mean\",\"spectral_centroid_var\",\"spectral_bandwidth_mean\",\n",
    "#                 \"spectral_bandwidth_var\",\"spectral_rolloff_mean\",\"spectral_rolloff_var\",\"spectral_contrast_mean\",\"spectral_contrast_var\",\"spectral_flatness_mean\",\n",
    "#                 \"spectral_flatness_var\",\"chroma_stft_1_mean\",\"chroma_stft_2_mean\",\"chroma_stft_3_mean\",\"chroma_stft_4_mean\",\"chroma_stft_5_mean\",\"chroma_stft_6_mean\",\n",
    "#                 \"chroma_stft_7_mean\",\"chroma_stft_8_mean\",\"chroma_stft_9_mean\",\"chroma_stft_10_mean\",\"chroma_stft_11_mean\",\"chroma_stft_12_mean\",\"chroma_stft_1_std\",\n",
    "#                 \"chroma_stft_2_std\",\"chroma_stft_3_std\",\"chroma_stft_4_std\",\"chroma_stft_5_std\",\"chroma_stft_6_std\",\"chroma_stft_7_std\",\"chroma_stft_8_std\",\"chroma_stft_9_std\",\n",
    "#                 \"chroma_stft_10_std\",\"chroma_stft_11_std\",\"chroma_stft_12_std\",\"tempo\",\"mfcc_1_mean\",\"mfcc_2_mean\",\"mfcc_3_mean\",\"mfcc_4_mean\",\"mfcc_5_mean\",\"mfcc_6_mean\",\n",
    "#                 \"mfcc_7_mean\",\"mfcc_8_mean\",\"mfcc_9_mean\",\"mfcc_10_mean\",\"mfcc_11_mean\",\"mfcc_12_mean\",\"mfcc_1_std\",\"mfcc_2_std\",\"mfcc_3_std\",\"mfcc_4_std\",\"mfcc_5_std\",\n",
    "#                 \"mfcc_6_std\",\"mfcc_7_std\",\"mfcc_8_std\",\"mfcc_9_std\",\"mfcc_10_std\",\"mfcc_11_std\",\"mfcc_12_std\"]\n",
    "# features    = [\"spectral_rolloff_mean\",\"spectral_centroid_mean\",\"mfcc_1_mean\",\"tempo\"]\n",
    "features    = [\"spectral_rolloff_mean\",\"spectral_centroid_mean\",\"mfcc_1_mean\",\"tempo\"]\n",
    "genres      = [\"pop\",\"metal\", \"disco\", \"blues\", \"reggae\", \"classical\", \"rock\", \"hiphop\", \"country\", \"jazz\"]\n",
    "# genres      = [\"pop\", \"disco\", \"metal\", \"classical\"] # Genres to plot in excercise 2\n",
    "\n",
    "#Extract training and test set\n",
    "X_train, y_train, ids_train  = getPointsAndClasses(songs_dict,features, genres, \"Train\")\n",
    "X_test, y_test, ids_test  = getPointsAndClasses(songs_dict,features, genres, \"Test\")"
   ]
  },
  {
   "cell_type": "code",
   "execution_count": null,
   "id": "0c0f85eb-b0d4-4b29-a2d3-ac0660e065f3",
   "metadata": {},
   "outputs": [],
   "source": []
  },
  {
   "cell_type": "code",
   "execution_count": null,
   "id": "31709b8b-ea9b-4813-994d-38aa2461e3af",
   "metadata": {},
   "outputs": [],
   "source": []
  }
 ],
 "metadata": {
  "kernelspec": {
   "display_name": "Python 3 (ipykernel)",
   "language": "python",
   "name": "python3"
  },
  "language_info": {
   "codemirror_mode": {
    "name": "ipython",
    "version": 3
   },
   "file_extension": ".py",
   "mimetype": "text/x-python",
   "name": "python",
   "nbconvert_exporter": "python",
   "pygments_lexer": "ipython3",
   "version": "3.9.1"
  }
 },
 "nbformat": 4,
 "nbformat_minor": 5
}
